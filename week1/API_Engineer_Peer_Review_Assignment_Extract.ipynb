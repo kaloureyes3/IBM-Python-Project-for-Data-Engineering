{
 "cells": [
  {
   "cell_type": "markdown",
   "metadata": {},
   "source": [
    "<center>\n",
    "    <img src=\"https://cf-courses-data.s3.us.cloud-object-storage.appdomain.cloud/IBMDeveloperSkillsNetwork-PY0221EN-SkillsNetwork/labs/module%206/Final%20Assignment/Images/IDSNlogo.png\" width=\"300\" alt=\"cognitiveclass.ai logo\"  />\n",
    "</center>\n"
   ]
  },
  {
   "cell_type": "markdown",
   "metadata": {},
   "source": [
    "# Peer Review Assignment - Data Engineer - Extract API Data\n"
   ]
  },
  {
   "cell_type": "markdown",
   "metadata": {},
   "source": [
    "Estimated time needed: **20** minutes\n"
   ]
  },
  {
   "cell_type": "markdown",
   "metadata": {},
   "source": [
    "## Objectives\n",
    "\n",
    "In this part you will:\n",
    "\n",
    "*   Collect exchange rate data using an API\n",
    "*   Store the data as a CSV\n"
   ]
  },
  {
   "cell_type": "markdown",
   "metadata": {},
   "source": [
    "For this lab, we are going to be using Python and several Python libraries. Some of these libraries might be installed in your lab environment or in SN Labs. Others may need to be installed by you. The cells below will install these libraries when executed.\n"
   ]
  },
  {
   "cell_type": "code",
   "execution_count": null,
   "metadata": {},
   "outputs": [],
   "source": [
    "#!mamba install pandas==1.3.3 -y\n",
    "#!mamba install requests==2.26.0 -y"
   ]
  },
  {
   "cell_type": "markdown",
   "metadata": {},
   "source": [
    "## Imports\n",
    "\n",
    "Import any additional libraries you may need here.\n"
   ]
  },
  {
   "cell_type": "code",
   "execution_count": 1,
   "metadata": {},
   "outputs": [],
   "source": [
    "import requests\n",
    "import pandas as pd"
   ]
  },
  {
   "cell_type": "markdown",
   "metadata": {},
   "source": [
    "## Extract Data Using an API\n"
   ]
  },
  {
   "cell_type": "markdown",
   "metadata": {},
   "source": [
    "Using ExchangeRate-API we will extract currency exchange rate data. Use the below steps to get the access key and to get the data.\n",
    "\n",
    "1.  Open the url : [https://exchangeratesapi.io/](https://exchangeratesapi.io/?utm_medium=Exinfluencer&utm_source=Exinfluencer&utm_content=000026UJ&utm_term=10006555&utm_id=NA-SkillsNetwork-Channel-SkillsNetworkCoursesIBMDeveloperSkillsNetworkPY0221ENSkillsNetwork23455645-2022-01-01) and click on **Get Free API Key**.\n",
    "2.  Subscribe for Free plan and Sign-in with the Google Account.\n",
    "3.  Once the account is created you will be redirected to [https://apilayer.com](https://apilayer.com/?utm_medium=Exinfluencer&utm_source=Exinfluencer&utm_content=000026UJ&utm_term=10006555&utm_id=NA-SkillsNetwork-Channel-SkillsNetworkCoursesIBMDeveloperSkillsNetworkPY0221ENSkillsNetwork23455645-2022-01-01) website.\n",
    "4.  Now, click on the **user icon** and click **Account** as shown below:\n",
    "\n",
    "<img src=\"https://cf-courses-data.s3.us.cloud-object-storage.appdomain.cloud/IBMDeveloperSkillsNetwork-PY0221EN-SkillsNetwork/labs/module%206/Final%20Assignment/Images/account.png\"/>\n",
    "\n",
    "3.  Scroll down and you will get the API Key section. Copy the API key and use in the url in Question 1.\n"
   ]
  },
  {
   "cell_type": "markdown",
   "metadata": {},
   "source": [
    "### Call the API\n",
    "\n",
    "<b> Question 1</b> Using the `requests` library call the endpoint given above and save the text, remember the first few characters of the output:\n"
   ]
  },
  {
   "cell_type": "code",
   "execution_count": 3,
   "metadata": {},
   "outputs": [
    {
     "data": {
      "text/plain": [
       "{'success': True,\n",
       " 'timestamp': 1653025324,\n",
       " 'base': 'EUR',\n",
       " 'date': '2022-05-20',\n",
       " 'rates': {'AED': 3.888277,\n",
       "  'AFN': 95.272558,\n",
       "  'ALL': 120.096417,\n",
       "  'AMD': 486.311021,\n",
       "  'ANG': 1.908973,\n",
       "  'AOA': 438.750754,\n",
       "  'ARS': 125.266056,\n",
       "  'AUD': 1.502483,\n",
       "  'AWG': 1.905448,\n",
       "  'AZN': 1.793054,\n",
       "  'BAM': 1.967674,\n",
       "  'BBD': 2.138653,\n",
       "  'BDT': 92.731698,\n",
       "  'BGN': 1.95521,\n",
       "  'BHD': 0.399133,\n",
       "  'BIF': 2128.808441,\n",
       "  'BMD': 1.058582,\n",
       "  'BND': 1.466479,\n",
       "  'BOB': 7.281964,\n",
       "  'BRL': 5.220504,\n",
       "  'BSD': 1.059166,\n",
       "  'BTC': 3.5161581e-05,\n",
       "  'BTN': 82.253574,\n",
       "  'BWP': 12.901336,\n",
       "  'BYN': 3.574416,\n",
       "  'BYR': 20748.207578,\n",
       "  'BZD': 2.134981,\n",
       "  'CAD': 1.354874,\n",
       "  'CDF': 2122.457132,\n",
       "  'CHF': 1.0271,\n",
       "  'CLF': 0.032132,\n",
       "  'CLP': 886.615328,\n",
       "  'CNY': 7.085198,\n",
       "  'COP': 4287.765297,\n",
       "  'CRC': 708.669062,\n",
       "  'CUC': 1.058582,\n",
       "  'CUP': 28.052424,\n",
       "  'CVE': 110.674883,\n",
       "  'CZK': 24.685286,\n",
       "  'DJF': 188.131441,\n",
       "  'DKK': 7.442943,\n",
       "  'DOP': 58.546748,\n",
       "  'DZD': 154.220593,\n",
       "  'EGP': 19.349289,\n",
       "  'ERN': 15.878731,\n",
       "  'ETB': 54.514621,\n",
       "  'EUR': 1,\n",
       "  'FJD': 2.313372,\n",
       "  'FKP': 0.86627,\n",
       "  'GBP': 0.848972,\n",
       "  'GEL': 3.075147,\n",
       "  'GGP': 0.86627,\n",
       "  'GHS': 8.154931,\n",
       "  'GIP': 0.86627,\n",
       "  'GMD': 57.321822,\n",
       "  'GNF': 9341.98588,\n",
       "  'GTQ': 8.127244,\n",
       "  'GYD': 221.601815,\n",
       "  'HKD': 8.308017,\n",
       "  'HNL': 25.90408,\n",
       "  'HRK': 7.53869,\n",
       "  'HTG': 118.630966,\n",
       "  'HUF': 384.409235,\n",
       "  'IDR': 15511.402328,\n",
       "  'ILS': 3.557788,\n",
       "  'IMP': 0.86627,\n",
       "  'INR': 82.013112,\n",
       "  'IQD': 1545.000457,\n",
       "  'IRR': 44830.948374,\n",
       "  'ISK': 139.489086,\n",
       "  'JEP': 0.86627,\n",
       "  'JMD': 164.048925,\n",
       "  'JOD': 0.750527,\n",
       "  'JPY': 135.289195,\n",
       "  'KES': 123.271597,\n",
       "  'KGS': 84.697039,\n",
       "  'KHR': 4298.901177,\n",
       "  'KMF': 494.778872,\n",
       "  'KPW': 952.724053,\n",
       "  'KRW': 1342.541331,\n",
       "  'KWD': 0.324275,\n",
       "  'KYD': 0.882604,\n",
       "  'KZT': 454.244274,\n",
       "  'LAK': 14047.383728,\n",
       "  'LBP': 1605.192607,\n",
       "  'LKR': 381.30693,\n",
       "  'LRD': 161.963452,\n",
       "  'LSL': 16.863289,\n",
       "  'LTL': 3.125718,\n",
       "  'LVL': 0.640326,\n",
       "  'LYD': 5.091587,\n",
       "  'MAD': 10.599055,\n",
       "  'MDL': 20.161057,\n",
       "  'MGA': 4282.490801,\n",
       "  'MKD': 61.618319,\n",
       "  'MMK': 1961.06357,\n",
       "  'MNT': 3255.955663,\n",
       "  'MOP': 8.56115,\n",
       "  'MRO': 377.913599,\n",
       "  'MUR': 45.785442,\n",
       "  'MVR': 16.290995,\n",
       "  'MWK': 863.266833,\n",
       "  'MXN': 21.065836,\n",
       "  'MYR': 4.653512,\n",
       "  'MZN': 67.569561,\n",
       "  'NAD': 16.862923,\n",
       "  'NGN': 439.438489,\n",
       "  'NIO': 37.89079,\n",
       "  'NOK': 10.255172,\n",
       "  'NPR': 131.60608,\n",
       "  'NZD': 1.653606,\n",
       "  'OMR': 0.407556,\n",
       "  'PAB': 1.059166,\n",
       "  'PEN': 3.976071,\n",
       "  'PGK': 3.720901,\n",
       "  'PHP': 55.222034,\n",
       "  'PKR': 211.823659,\n",
       "  'PLN': 4.646698,\n",
       "  'PYG': 7249.164356,\n",
       "  'QAR': 3.854296,\n",
       "  'RON': 4.947923,\n",
       "  'RSD': 117.499674,\n",
       "  'RUB': 65.658558,\n",
       "  'RWF': 1080.812242,\n",
       "  'SAR': 3.970852,\n",
       "  'SBD': 8.599418,\n",
       "  'SCR': 14.426866,\n",
       "  'SDG': 547.8129,\n",
       "  'SEK': 10.490337,\n",
       "  'SGD': 1.458869,\n",
       "  'SHP': 1.458095,\n",
       "  'SLL': 13573.66386,\n",
       "  'SOS': 613.977261,\n",
       "  'SRD': 22.237661,\n",
       "  'STD': 21910.51053,\n",
       "  'SVC': 9.267786,\n",
       "  'SYP': 2659.634942,\n",
       "  'SZL': 16.874022,\n",
       "  'THB': 36.425963,\n",
       "  'TJS': 13.245429,\n",
       "  'TMT': 3.715623,\n",
       "  'TND': 3.236106,\n",
       "  'TOP': 2.471418,\n",
       "  'TRY': 16.890843,\n",
       "  'TTD': 7.191118,\n",
       "  'TWD': 31.339301,\n",
       "  'TZS': 2462.261841,\n",
       "  'UAH': 31.292965,\n",
       "  'UGX': 3863.958679,\n",
       "  'USD': 1.058582,\n",
       "  'UYU': 43.018932,\n",
       "  'UZS': 11734.381925,\n",
       "  'VEF': 226356828543.21786,\n",
       "  'VND': 24533.167588,\n",
       "  'VUV': 120.959576,\n",
       "  'WST': 2.730446,\n",
       "  'XAF': 659.907422,\n",
       "  'XAG': 0.048137,\n",
       "  'XAU': 0.000574,\n",
       "  'XCD': 2.860871,\n",
       "  'XDR': 0.791136,\n",
       "  'XOF': 662.144686,\n",
       "  'XPF': 119.67264,\n",
       "  'YER': 264.910501,\n",
       "  'ZAR': 16.738632,\n",
       "  'ZMK': 9528.511516,\n",
       "  'ZMW': 18.033048,\n",
       "  'ZWL': 340.862978}}"
      ]
     },
     "execution_count": 3,
     "metadata": {},
     "output_type": "execute_result"
    }
   ],
   "source": [
    "# Write your code here\n",
    "url = \"https://api.apilayer.com/exchangerates_data/latest?base=EUR&apikey=pLx2chneWUz5CyNiLVpFUDevym3sxnnR\" #Make sure to change ******* to your API key.\n",
    "response = requests.get(url)\n",
    "response.json()"
   ]
  },
  {
   "cell_type": "markdown",
   "metadata": {},
   "source": [
    "### Save as DataFrame\n",
    "\n",
    "<b> Question 2</b>  Using the data gathered turn it into a `pandas` dataframe. The dataframe should have the Currency as the index and `Rate` as their columns. Make sure to drop unnecessary columns.\n"
   ]
  },
  {
   "cell_type": "code",
   "execution_count": 4,
   "metadata": {},
   "outputs": [
    {
     "data": {
      "text/html": [
       "<div>\n",
       "<style scoped>\n",
       "    .dataframe tbody tr th:only-of-type {\n",
       "        vertical-align: middle;\n",
       "    }\n",
       "\n",
       "    .dataframe tbody tr th {\n",
       "        vertical-align: top;\n",
       "    }\n",
       "\n",
       "    .dataframe thead th {\n",
       "        text-align: right;\n",
       "    }\n",
       "</style>\n",
       "<table border=\"1\" class=\"dataframe\">\n",
       "  <thead>\n",
       "    <tr style=\"text-align: right;\">\n",
       "      <th></th>\n",
       "      <th>success</th>\n",
       "      <th>timestamp</th>\n",
       "      <th>base</th>\n",
       "      <th>date</th>\n",
       "      <th>rates</th>\n",
       "    </tr>\n",
       "  </thead>\n",
       "  <tbody>\n",
       "    <tr>\n",
       "      <th>AED</th>\n",
       "      <td>True</td>\n",
       "      <td>1653025324</td>\n",
       "      <td>EUR</td>\n",
       "      <td>2022-05-20</td>\n",
       "      <td>3.888277</td>\n",
       "    </tr>\n",
       "    <tr>\n",
       "      <th>AFN</th>\n",
       "      <td>True</td>\n",
       "      <td>1653025324</td>\n",
       "      <td>EUR</td>\n",
       "      <td>2022-05-20</td>\n",
       "      <td>95.272558</td>\n",
       "    </tr>\n",
       "    <tr>\n",
       "      <th>ALL</th>\n",
       "      <td>True</td>\n",
       "      <td>1653025324</td>\n",
       "      <td>EUR</td>\n",
       "      <td>2022-05-20</td>\n",
       "      <td>120.096417</td>\n",
       "    </tr>\n",
       "    <tr>\n",
       "      <th>AMD</th>\n",
       "      <td>True</td>\n",
       "      <td>1653025324</td>\n",
       "      <td>EUR</td>\n",
       "      <td>2022-05-20</td>\n",
       "      <td>486.311021</td>\n",
       "    </tr>\n",
       "    <tr>\n",
       "      <th>ANG</th>\n",
       "      <td>True</td>\n",
       "      <td>1653025324</td>\n",
       "      <td>EUR</td>\n",
       "      <td>2022-05-20</td>\n",
       "      <td>1.908973</td>\n",
       "    </tr>\n",
       "    <tr>\n",
       "      <th>...</th>\n",
       "      <td>...</td>\n",
       "      <td>...</td>\n",
       "      <td>...</td>\n",
       "      <td>...</td>\n",
       "      <td>...</td>\n",
       "    </tr>\n",
       "    <tr>\n",
       "      <th>YER</th>\n",
       "      <td>True</td>\n",
       "      <td>1653025324</td>\n",
       "      <td>EUR</td>\n",
       "      <td>2022-05-20</td>\n",
       "      <td>264.910501</td>\n",
       "    </tr>\n",
       "    <tr>\n",
       "      <th>ZAR</th>\n",
       "      <td>True</td>\n",
       "      <td>1653025324</td>\n",
       "      <td>EUR</td>\n",
       "      <td>2022-05-20</td>\n",
       "      <td>16.738632</td>\n",
       "    </tr>\n",
       "    <tr>\n",
       "      <th>ZMK</th>\n",
       "      <td>True</td>\n",
       "      <td>1653025324</td>\n",
       "      <td>EUR</td>\n",
       "      <td>2022-05-20</td>\n",
       "      <td>9528.511516</td>\n",
       "    </tr>\n",
       "    <tr>\n",
       "      <th>ZMW</th>\n",
       "      <td>True</td>\n",
       "      <td>1653025324</td>\n",
       "      <td>EUR</td>\n",
       "      <td>2022-05-20</td>\n",
       "      <td>18.033048</td>\n",
       "    </tr>\n",
       "    <tr>\n",
       "      <th>ZWL</th>\n",
       "      <td>True</td>\n",
       "      <td>1653025324</td>\n",
       "      <td>EUR</td>\n",
       "      <td>2022-05-20</td>\n",
       "      <td>340.862978</td>\n",
       "    </tr>\n",
       "  </tbody>\n",
       "</table>\n",
       "<p>168 rows × 5 columns</p>\n",
       "</div>"
      ],
      "text/plain": [
       "     success   timestamp base        date        rates\n",
       "AED     True  1653025324  EUR  2022-05-20     3.888277\n",
       "AFN     True  1653025324  EUR  2022-05-20    95.272558\n",
       "ALL     True  1653025324  EUR  2022-05-20   120.096417\n",
       "AMD     True  1653025324  EUR  2022-05-20   486.311021\n",
       "ANG     True  1653025324  EUR  2022-05-20     1.908973\n",
       "..       ...         ...  ...         ...          ...\n",
       "YER     True  1653025324  EUR  2022-05-20   264.910501\n",
       "ZAR     True  1653025324  EUR  2022-05-20    16.738632\n",
       "ZMK     True  1653025324  EUR  2022-05-20  9528.511516\n",
       "ZMW     True  1653025324  EUR  2022-05-20    18.033048\n",
       "ZWL     True  1653025324  EUR  2022-05-20   340.862978\n",
       "\n",
       "[168 rows x 5 columns]"
      ]
     },
     "execution_count": 4,
     "metadata": {},
     "output_type": "execute_result"
    }
   ],
   "source": [
    "# Turn the data into a dataframe\n",
    "dataframe = pd.DataFrame(response.json())\n",
    "dataframe"
   ]
  },
  {
   "cell_type": "code",
   "execution_count": 5,
   "metadata": {},
   "outputs": [
    {
     "data": {
      "text/html": [
       "<div>\n",
       "<style scoped>\n",
       "    .dataframe tbody tr th:only-of-type {\n",
       "        vertical-align: middle;\n",
       "    }\n",
       "\n",
       "    .dataframe tbody tr th {\n",
       "        vertical-align: top;\n",
       "    }\n",
       "\n",
       "    .dataframe thead th {\n",
       "        text-align: right;\n",
       "    }\n",
       "</style>\n",
       "<table border=\"1\" class=\"dataframe\">\n",
       "  <thead>\n",
       "    <tr style=\"text-align: right;\">\n",
       "      <th></th>\n",
       "      <th>rates</th>\n",
       "    </tr>\n",
       "  </thead>\n",
       "  <tbody>\n",
       "    <tr>\n",
       "      <th>AED</th>\n",
       "      <td>3.888277</td>\n",
       "    </tr>\n",
       "    <tr>\n",
       "      <th>AFN</th>\n",
       "      <td>95.272558</td>\n",
       "    </tr>\n",
       "    <tr>\n",
       "      <th>ALL</th>\n",
       "      <td>120.096417</td>\n",
       "    </tr>\n",
       "    <tr>\n",
       "      <th>AMD</th>\n",
       "      <td>486.311021</td>\n",
       "    </tr>\n",
       "    <tr>\n",
       "      <th>ANG</th>\n",
       "      <td>1.908973</td>\n",
       "    </tr>\n",
       "    <tr>\n",
       "      <th>...</th>\n",
       "      <td>...</td>\n",
       "    </tr>\n",
       "    <tr>\n",
       "      <th>YER</th>\n",
       "      <td>264.910501</td>\n",
       "    </tr>\n",
       "    <tr>\n",
       "      <th>ZAR</th>\n",
       "      <td>16.738632</td>\n",
       "    </tr>\n",
       "    <tr>\n",
       "      <th>ZMK</th>\n",
       "      <td>9528.511516</td>\n",
       "    </tr>\n",
       "    <tr>\n",
       "      <th>ZMW</th>\n",
       "      <td>18.033048</td>\n",
       "    </tr>\n",
       "    <tr>\n",
       "      <th>ZWL</th>\n",
       "      <td>340.862978</td>\n",
       "    </tr>\n",
       "  </tbody>\n",
       "</table>\n",
       "<p>168 rows × 1 columns</p>\n",
       "</div>"
      ],
      "text/plain": [
       "           rates\n",
       "AED     3.888277\n",
       "AFN    95.272558\n",
       "ALL   120.096417\n",
       "AMD   486.311021\n",
       "ANG     1.908973\n",
       "..           ...\n",
       "YER   264.910501\n",
       "ZAR    16.738632\n",
       "ZMK  9528.511516\n",
       "ZMW    18.033048\n",
       "ZWL   340.862978\n",
       "\n",
       "[168 rows x 1 columns]"
      ]
     },
     "execution_count": 5,
     "metadata": {},
     "output_type": "execute_result"
    }
   ],
   "source": [
    "# Drop unnescessary columns\n",
    "dataframe.drop(columns=[\"success\", \"timestamp\", \"base\", \"date\"], inplace=True)\n",
    "dataframe"
   ]
  },
  {
   "cell_type": "markdown",
   "metadata": {},
   "source": [
    "### Load the Data\n",
    "\n",
    "Using the dataframe save it as a CSV names `exchange_rates_1.csv`.\n"
   ]
  },
  {
   "cell_type": "code",
   "execution_count": 8,
   "metadata": {},
   "outputs": [
    {
     "ename": "SyntaxError",
     "evalue": "(unicode error) 'unicodeescape' codec can't decode bytes in position 2-3: truncated \\UXXXXXXXX escape (729919646.py, line 2)",
     "output_type": "error",
     "traceback": [
      "\u001b[0;36m  File \u001b[0;32m\"/tmp/ipykernel_1833/729919646.py\"\u001b[0;36m, line \u001b[0;32m2\u001b[0m\n\u001b[0;31m    dataframe.to_csv(\"C:\\Users\\CVazquez\\Documentsexchange_rates_1.csv\")\u001b[0m\n\u001b[0m                    ^\u001b[0m\n\u001b[0;31mSyntaxError\u001b[0m\u001b[0;31m:\u001b[0m (unicode error) 'unicodeescape' codec can't decode bytes in position 2-3: truncated \\UXXXXXXXX escape\n"
     ]
    }
   ],
   "source": [
    "# Save the Dataframe\n",
    "dataframe.to_csv(\"C:\\Users\\CVazquez\\Documentsexchange_rates_1.csv\")"
   ]
  },
  {
   "cell_type": "markdown",
   "metadata": {},
   "source": [
    "Your CSV should be in this format with more currencies\n",
    "\n",
    "|     | Rates      |\n",
    "| --- | ---------- |\n",
    "| AED | 4.398618   |\n",
    "| AFN | 92.917693  |\n",
    "| ALL | 123.099093 |\n",
    "| AMD | 621.935674 |\n",
    "| ANG | 2.149648   |\n"
   ]
  },
  {
   "cell_type": "markdown",
   "metadata": {},
   "source": [
    "## Authors\n"
   ]
  },
  {
   "cell_type": "markdown",
   "metadata": {},
   "source": [
    "Ramesh Sannareddy, Joseph Santarcangelo and Azim Hirjani\n"
   ]
  },
  {
   "cell_type": "markdown",
   "metadata": {},
   "source": [
    "### Other Contributors\n"
   ]
  },
  {
   "cell_type": "markdown",
   "metadata": {},
   "source": [
    "Rav Ahuja\n"
   ]
  },
  {
   "cell_type": "markdown",
   "metadata": {},
   "source": [
    "## Change Log\n"
   ]
  },
  {
   "cell_type": "markdown",
   "metadata": {},
   "source": [
    "| Date (YYYY-MM-DD) | Version | Changed By        | Change Description                              |\n",
    "| ----------------- | ------- | ----------------- | ----------------------------------------------- |\n",
    "| 2022-05-06        | 0.3     | Malika            | Updated instructions to get the API and the url |\n",
    "| 2021-04-15        | 0.2     | Malika            | Updated the lab from USD to EUR                 |\n",
    "| 2020-11-25        | 0.1     | Ramesh Sannareddy | Created initial version of the lab              |\n"
   ]
  },
  {
   "cell_type": "markdown",
   "metadata": {},
   "source": [
    "Copyright © 2020 IBM Corporation. This notebook and its source code are released under the terms of the [MIT License](https://cognitiveclass.ai/mit-license?utm_medium=Exinfluencer&utm_source=Exinfluencer&utm_content=000026UJ&utm_term=10006555&utm_id=NA-SkillsNetwork-Channel-SkillsNetworkCoursesIBMDeveloperSkillsNetworkPY0221ENSkillsNetwork23455645-2022-01-01&cm_mmc=Email_Newsletter-\\_-Developer_Ed%2BTech-\\_-WW_WW-\\_-SkillsNetwork-Courses-IBM-DA0321EN-SkillsNetwork-21426264&cm_mmca1=000026UJ&cm_mmca2=10006555&cm_mmca3=M12345678&cvosrc=email.Newsletter.M12345678&cvo_campaign=000026UJ).\n"
   ]
  }
 ],
 "metadata": {
  "kernelspec": {
   "display_name": "Python",
   "language": "python",
   "name": "conda-env-python-py"
  },
  "language_info": {
   "codemirror_mode": {
    "name": "ipython",
    "version": 3
   },
   "file_extension": ".py",
   "mimetype": "text/x-python",
   "name": "python",
   "nbconvert_exporter": "python",
   "pygments_lexer": "ipython3",
   "version": "3.7.12"
  }
 },
 "nbformat": 4,
 "nbformat_minor": 4
}
